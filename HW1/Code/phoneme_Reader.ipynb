{
  "cells": [
    {
      "cell_type": "code",
      "execution_count": null,
      "metadata": {
        "colab": {
          "base_uri": "https://localhost:8080/"
        },
        "id": "M7hUgFZWvJZM",
        "outputId": "7fc02d98-94af-46ef-8c8b-abb66a279ca2"
      },
      "outputs": [
        {
          "name": "stdout",
          "output_type": "stream",
          "text": [
            "Collecting pydub\n",
            "  Downloading pydub-0.25.1-py2.py3-none-any.whl (32 kB)\n",
            "Installing collected packages: pydub\n",
            "Successfully installed pydub-0.25.1\n"
          ]
        }
      ],
      "source": [
        "!pip install pydub"
      ]
    },
    {
      "cell_type": "code",
      "execution_count": 24,
      "metadata": {
        "id": "LvkA55TKxDDc"
      },
      "outputs": [],
      "source": [
        "def int_to_fa(num):\n",
        "    d = { 0 : 'صِفر', 1 : '1ک', 2 : 'دُ', 3 : 'سه', 4 : 'چاهار', 5 : 'پَنج',\n",
        "          6 : 'شِش', 7 : 'هَفت', 8 : 'هَشت', 9 : 'نُه', 10 : 'دَه',\n",
        "          11 : '1ازدَه', 12 : 'دَوازدَه', 13 : 'سیزدَه', 14 : 'چاهاردَه',\n",
        "          15 : 'پانزدَه', 16 : 'شانزدَه', 17 : 'هِفدَه', 18 : 'هِجدَه',\n",
        "          19 : 'نوزدَه', 20 : 'بیست',\n",
        "          30 : 'سی', 40 : 'چِهل', 50 : 'پَنجاه', 60 : 'شَصت',\n",
        "          70 : 'هَفتاد', 80 : 'هَشتاد', 90 : 'نَوَد' }\n",
        "    k = 1000\n",
        "    m = k * 1000\n",
        "    b = m * 1000\n",
        "    t = b * 1000\n",
        "\n",
        "    assert(0 <= num)\n",
        "\n",
        "    if (num < 20):\n",
        "        return d[num]\n",
        "\n",
        "    if (num < 100):\n",
        "        if num % 10 == 0: return d[num]\n",
        "        else: return d[num // 10 * 10] + ' و ' + d[num % 10]\n",
        "\n",
        "    if (num < k):\n",
        "      if (200 <= num <300):\n",
        "          if num % 100 == 0: return d[num // 100] + ' دیویست'\n",
        "          else: return  ' دیویست وَ ' + int_to_fa(num % 100)\n",
        "      elif (300 <= num <400):\n",
        "          if num % 100 == 0: return d[num // 100] + ' سیصَد'\n",
        "          else: return  ' سیصَد وَ ' + int_to_fa(num % 100)\n",
        "      elif (400 <= num <500):\n",
        "          if num % 100 == 0: return d[num // 100] + ' چهارصَد'\n",
        "          else: return  ' چهارصَد وَ ' + int_to_fa(num % 100)\n",
        "      elif (500 <= num <600):\n",
        "          if num % 100 == 0: return d[num // 100] + ' پانصَد'\n",
        "          else: return ' پانصَد وَ ' + int_to_fa(num % 100)\n",
        "      else:\n",
        "          if num % 100 == 0: return d[num // 100] + ' صَد'\n",
        "          else: return d[num // 100] + ' صَد وَ ' + int_to_fa(num % 100)\n",
        "\n",
        "    if (num < m):\n",
        "        if num % k == 0: return int_to_fa(num // k) + ' هِزار'\n",
        "        else: return int_to_fa(num // k) + ' هِزار وَ ' + int_to_fa(num % k)\n",
        "\n",
        "    if (num < b):\n",
        "        if (num % m) == 0: return int_to_fa(num // m) + ' میل1ؤن'\n",
        "        else: return int_to_fa(num // m) + ' میل1ؤن وَ ' + int_to_fa(num % m)\n",
        "\n",
        "    if (num < t):\n",
        "        if (num % b) == 0: return int_to_fa(num // b) + ' میل1ارد'\n",
        "        else: return int_to_fa(num // b) + ' میل1ارد وَ ' + int_to_fa(num % b)\n",
        "\n",
        "    if (num % t == 0): return int_to_fa(num // t) + ' تریل1ؤن'\n",
        "    else: return int_to_fa(num // t) + ' تریل1ؤن وَ ' + int_to_fa(num % t)\n",
        "\n",
        "    raise AssertionError('عدد بیش از اندازه بزرگ است: %s' % str(num))\n"
      ]
    },
    {
      "cell_type": "code",
      "execution_count": 37,
      "metadata": {
        "colab": {
          "base_uri": "https://localhost:8080/"
        },
        "id": "sfqiLPupOkYr",
        "outputId": "f3dd2110-9e76-40d2-a917-c677fbe79b8b"
      },
      "outputs": [
        {
          "data": {
            "text/plain": [
              "<_io.BufferedRandom name='0000.mp3'>"
            ]
          },
          "execution_count": 37,
          "metadata": {},
          "output_type": "execute_result"
        }
      ],
      "source": [
        "from pydub import AudioSegment\n",
        "import os\n",
        "def detect_leading_silence(sound, silence_threshold=-90.0, chunk_size=10):\n",
        "    '''\n",
        "    sound: a pydub.AudioSegment\n",
        "    silence_threshold: in dB\n",
        "    chunk_size: in ms\n",
        "    iterate over chunks until you find the first one with sound\n",
        "    '''\n",
        "    trim_ms = 0  # ms\n",
        "    assert chunk_size > 0  # to avoid infinite loop\n",
        "    while sound[trim_ms:trim_ms + chunk_size].dBFS < silence_threshold and trim_ms < len(sound):\n",
        "        trim_ms += chunk_size\n",
        "    return trim_ms\n",
        "\n",
        "def concatenate_phoneme_audio(text_input, phoneme_mapping, fade_duration=90, overlap_duration=1500):\n",
        "    output_audio = AudioSegment.silent()\n",
        "\n",
        "    for i, char in enumerate(text_input):\n",
        "        phoneme = phoneme_mapping.get(char)\n",
        "        if phoneme:\n",
        "            audio_file_path = f\"Phoneme/{phoneme}.wav\"  # Replace with the actual path to your audio files\n",
        "            if os.path.exists(audio_file_path):\n",
        "                phoneme_audio = AudioSegment.from_wav(audio_file_path)\n",
        "                # start_trim = detect_leading_silence(phoneme_audio)\n",
        "                # end_trim = detect_leading_silence(phoneme_audio.reverse())\n",
        "\n",
        "                # # Trim the audio\n",
        "                # duration = len(phoneme_audio)\n",
        "                # phoneme_audio = phoneme_audio[start_trim:duration - end_trim]\n",
        "                duration = len(phoneme_audio)\n",
        "                #phoneme_audio=phoneme_audio[:int(duration/1.3)]\n",
        "                # Apply fade-in and fade-out to each phoneme audio segment\n",
        "                phoneme_audio = (\n",
        "                    phoneme_audio\n",
        "                    .fade_in(fade_duration)\n",
        "                    .fade_out(fade_duration)\n",
        "                    .apply_gain_stereo(0.8)  # Adjust the stereo balance if needed\n",
        "                )\n",
        "\n",
        "                output_audio += phoneme_audio\n",
        "            else:\n",
        "                print(f\"Audio file not found for phoneme: {phoneme}\")\n",
        "\n",
        "    return output_audio\n",
        "\n",
        "\n",
        "persian_phoneme_mapping = {\n",
        "    'ی': 'I',\n",
        "    'ِ': 'e',\n",
        "    'َ': 'a',\n",
        "    'ؤ': 'u',\n",
        "    'ُ': 'o',\n",
        "    'آ': 'AA',\n",
        "    'ا': 'AA',\n",
        "    'پ': 'p',\n",
        "    'ب': 'b',\n",
        "    'ت': 't',\n",
        "    'ط': 't',\n",
        "    'د': 'd',\n",
        "    'ک': 'k',\n",
        "    'گ': 'g',\n",
        "    'ق': 'q',\n",
        "    'ع': 'Eh',\n",
        "    'ء': 'Eh',\n",
        "    'أ': 'Eh',\n",
        "    'چ': 'ch',\n",
        "    'ج': 'j',\n",
        "    'ف': 'f',\n",
        "    'و': 'v',\n",
        "    'س': 's',\n",
        "    'ص': 's',\n",
        "    'ث': 's',\n",
        "    'ز': 'z',\n",
        "    'ظ': 'z',\n",
        "    'ض': 'z',\n",
        "    'ذ': 'z',\n",
        "    'ش': 'sh',\n",
        "    'ژ': 'zh',\n",
        "    'خ': 'kh',\n",
        "    'ه': 'h',\n",
        "    'ح': 'h',\n",
        "    'ل': 'l',\n",
        "    'ر': 'r',\n",
        "    'م': 'm',\n",
        "    'ن': 'n',\n",
        "    '1': 'y',\n",
        "}\n",
        "\n"
      ]
    },
    {
      "cell_type": "code",
      "execution_count": 43,
      "metadata": {
        "colab": {
          "base_uri": "https://localhost:8080/"
        },
        "id": "7rD_IwG7Q2LY",
        "outputId": "d7a5cfc0-ffcc-40a6-80da-5e3f000254ff"
      },
      "outputs": [
        {
          "data": {
            "text/plain": [
              "<_io.BufferedRandom name='0000.wav'>"
            ]
          },
          "execution_count": 43,
          "metadata": {},
          "output_type": "execute_result"
        }
      ],
      "source": [
        "input_str=\"دانِشگاهِ تِهران\"\n",
        "\n",
        "if input_str.isdigit():\n",
        "    input_str = int_to_fa(int(input_str))\n",
        "\n",
        "output_audio = concatenate_phoneme_audio(input_str, persian_phoneme_mapping)\n",
        "output_audio.export(f\"{input_str}.wav\", format=\"wav\")"
      ]
    },
    {
      "cell_type": "code",
      "execution_count": 44,
      "metadata": {
        "colab": {
          "base_uri": "https://localhost:8080/"
        },
        "id": "3K2WKRrfUjIX",
        "outputId": "e151ea9c-0d63-4b31-95af-4f8ae50d5fbf"
      },
      "outputs": [
        {
          "data": {
            "text/plain": [
              "<_io.BufferedRandom name='0000.wav'>"
            ]
          },
          "execution_count": 44,
          "metadata": {},
          "output_type": "execute_result"
        }
      ],
      "source": [
        "input_str=\"بِه کَجا چِنین شِتابان\"\n",
        "\n",
        "if input_str.isdigit():\n",
        "    input_str = int_to_fa(int(input_str))\n",
        "\n",
        "output_audio = concatenate_phoneme_audio(input_str, persian_phoneme_mapping)\n",
        "output_audio.export(f\"{input_str}.wav\", format=\"wav\")"
      ]
    },
    {
      "cell_type": "code",
      "execution_count": 45,
      "metadata": {
        "colab": {
          "base_uri": "https://localhost:8080/"
        },
        "id": "6e4ZzncOQ123",
        "outputId": "d52543d0-35b6-4310-a9f6-68902d812c9c"
      },
      "outputs": [
        {
          "data": {
            "text/plain": [
              "<_io.BufferedRandom name='0000.wav'>"
            ]
          },
          "execution_count": 45,
          "metadata": {},
          "output_type": "execute_result"
        }
      ],
      "source": [
        "input_str=\"مُحَممَد جَوادِ رَنجبَر\"\n",
        "\n",
        "if input_str.isdigit():\n",
        "    input_str = int_to_fa(int(input_str))\n",
        "\n",
        "output_audio = concatenate_phoneme_audio(input_str, persian_phoneme_mapping)\n",
        "output_audio.export(f\"{input_str}.wav\", format=\"wav\")"
      ]
    },
    {
      "cell_type": "code",
      "execution_count": 46,
      "metadata": {
        "colab": {
          "base_uri": "https://localhost:8080/"
        },
        "id": "Rkv7-olVQ2bl",
        "outputId": "5e2ad251-3571-4380-f3d6-1e66877b10e3"
      },
      "outputs": [
        {
          "data": {
            "text/plain": [
              "<_io.BufferedRandom name='0000.wav'>"
            ]
          },
          "execution_count": 46,
          "metadata": {},
          "output_type": "execute_result"
        }
      ],
      "source": [
        "input_str=\"1409\"\n",
        "\n",
        "if input_str.isdigit():\n",
        "    input_str = int_to_fa(int(input_str))\n",
        "\n",
        "output_audio = concatenate_phoneme_audio(input_str, persian_phoneme_mapping)\n",
        "output_audio.export(f\"{input_str}.wav\", format=\"wav\")"
      ]
    },
    {
      "cell_type": "code",
      "execution_count": 47,
      "metadata": {
        "colab": {
          "base_uri": "https://localhost:8080/"
        },
        "id": "kNQUfHglRm4N",
        "outputId": "4dc8a5e9-c189-4be5-ab25-dbbaedbf8e92"
      },
      "outputs": [
        {
          "data": {
            "text/plain": [
              "<_io.BufferedRandom name='0000.wav'>"
            ]
          },
          "execution_count": 47,
          "metadata": {},
          "output_type": "execute_result"
        }
      ],
      "source": [
        "input_str=\"دِویست وَ دُ هِزار وَ دَه\"\n",
        "\n",
        "if input_str.isdigit():\n",
        "    input_str = int_to_fa(int(input_str))\n",
        "\n",
        "output_audio = concatenate_phoneme_audio(input_str, persian_phoneme_mapping)\n",
        "output_audio.export(f\"{input_str}.wav\", format=\"wav\")"
      ]
    }
  ],
  "metadata": {
    "colab": {
      "provenance": []
    },
    "kernelspec": {
      "display_name": "Python 3",
      "name": "python3"
    },
    "language_info": {
      "name": "python"
    }
  },
  "nbformat": 4,
  "nbformat_minor": 0
}
