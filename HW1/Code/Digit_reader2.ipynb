{
  "cells": [
    {
      "cell_type": "code",
      "execution_count": null,
      "metadata": {
        "colab": {
          "base_uri": "https://localhost:8080/"
        },
        "id": "bwHbsCvaageE",
        "outputId": "00fca974-7c63-4e5f-a370-f316ff387558"
      },
      "outputs": [
        {
          "name": "stdout",
          "output_type": "stream",
          "text": [
            "Collecting pydub\n",
            "  Downloading pydub-0.25.1-py2.py3-none-any.whl (32 kB)\n",
            "Installing collected packages: pydub\n",
            "Successfully installed pydub-0.25.1\n"
          ]
        }
      ],
      "source": [
        "!pip install pydub"
      ]
    },
    {
      "cell_type": "code",
      "execution_count": 106,
      "metadata": {
        "id": "_QOk8RHoRV8C"
      },
      "outputs": [],
      "source": [
        "def int_to_fa(num):\n",
        "    d = { 0 : 'صفر', 1 : 'یک', 2 : 'دو', 3 : 'سه', 4 : 'چهار', 5 : 'پنج',\n",
        "          6 : 'شش', 7 : 'هفت', 8 : 'هشت', 9 : 'نه', 10 : 'ده',\n",
        "          11 : 'یازده', 12 : 'دوازده', 13 : 'سیزده', 14 : 'چهارده',\n",
        "          15 : 'پانزده', 16 : 'شانزده', 17 : 'هفده', 18 : 'هجده',\n",
        "          19 : 'نوزده', 20 : 'بیست',\n",
        "          30 : 'سی', 40 : 'چهل', 50 : 'پنجاه', 60 : 'شصت',\n",
        "          70 : 'هفتاد', 80 : 'هشتاد', 90 : 'نود' }\n",
        "    k = 1000\n",
        "    m = k * 1000\n",
        "    b = m * 1000\n",
        "    t = b * 1000\n",
        "\n",
        "    assert(0 <= num)\n",
        "\n",
        "    if (num < 20):\n",
        "        return d[num]\n",
        "\n",
        "    if (num < 100):\n",
        "        if num % 10 == 0: return d[num]\n",
        "        else: return d[num // 10 * 10] + ' و ' + d[num % 10]\n",
        "\n",
        "    if (num < k):\n",
        "      if (200 <= num <300):\n",
        "          if num % 100 == 0: return d[num // 100] + ' دویست'\n",
        "          else: return  ' دویست و ' + int_to_fa(num % 100)\n",
        "      elif (300 <= num <400):\n",
        "          if num % 100 == 0: return d[num // 100] + ' سیصد'\n",
        "          else: return  ' سیصد و ' + int_to_fa(num % 100)\n",
        "      elif (400 <= num <500):\n",
        "          if num % 100 == 0: return d[num // 100] + ' چهارصد'\n",
        "          else: return  ' چهارصد و ' + int_to_fa(num % 100)\n",
        "      elif (500 <= num <600):\n",
        "          if num % 100 == 0: return d[num // 100] + ' پانصد'\n",
        "          else: return ' پانصد و ' + int_to_fa(num % 100)\n",
        "      else:\n",
        "          if num % 100 == 0: return d[num // 100] + ' صد'\n",
        "          else: return d[num // 100] + ' صد و ' + int_to_fa(num % 100)\n",
        "\n",
        "    if (num < m):\n",
        "        if num % k == 0: return int_to_fa(num // k) + ' هزار'\n",
        "        else: return int_to_fa(num // k) + ' هزار و ' + int_to_fa(num % k)\n",
        "\n",
        "    if (num < b):\n",
        "        if (num % m) == 0: return int_to_fa(num // m) + ' میلیون'\n",
        "        else: return int_to_fa(num // m) + ' میلیون و ' + int_to_fa(num % m)\n",
        "\n",
        "    if (num < t):\n",
        "        if (num % b) == 0: return int_to_fa(num // b) + ' میلیارد'\n",
        "        else: return int_to_fa(num // b) + ' میلیارد و ' + int_to_fa(num % b)\n",
        "\n",
        "    if (num % t == 0): return int_to_fa(num // t) + ' تریلیون'\n",
        "    else: return int_to_fa(num // t) + ' تریلیون و ' + int_to_fa(num % t)\n",
        "\n",
        "    raise AssertionError('عدد بیش از اندازه بزرگ است: %s' % str(num))\n",
        "\n"
      ]
    },
    {
      "cell_type": "code",
      "execution_count": 107,
      "metadata": {
        "id": "GPXHIxy4aYBb"
      },
      "outputs": [],
      "source": [
        "from pydub import AudioSegment\n",
        "\n",
        "def concatenate_audio_files(file_paths):\n",
        "    # Initialize an empty audio segment\n",
        "    combined_audio = AudioSegment.silent(duration=0)\n",
        "\n",
        "    # Iterate through each file path and append the audio to the combined_audio\n",
        "    for i, file_path in enumerate(file_paths):\n",
        "        audio_segment = AudioSegment.from_file(file_path, format=\"wav\", frame_rate=16000, channels=1, sample_width=2)\n",
        "        if i > 0:\n",
        "          combined_audio = combined_audio.overlay(audio_segment, position=len(combined_audio) - 50)\n",
        "\n",
        "\n",
        "\n",
        "        combined_audio += audio_segment\n",
        "\n",
        "    return combined_audio"
      ]
    },
    {
      "cell_type": "code",
      "execution_count": 108,
      "metadata": {
        "id": "J4L-JAnHaBLF"
      },
      "outputs": [],
      "source": [
        "def text_preprocess(text):\n",
        "  tokenized = text.split()\n",
        "  i = 0\n",
        "  while i < len(tokenized):\n",
        "      if tokenized[i] == \"و\":\n",
        "          if i > 0:\n",
        "              tokenized[i - 1] += tokenized[i]\n",
        "          tokenized.pop(i)\n",
        "      else:\n",
        "          i += 1\n",
        "\n",
        "  result = \" \".join(tokenized)\n",
        "  return result"
      ]
    },
    {
      "cell_type": "code",
      "execution_count": 109,
      "metadata": {
        "id": "0JQe5PLXJSyp"
      },
      "outputs": [],
      "source": [
        "def string_to_audio(text,formal):\n",
        "  if (not formal):\n",
        "    text=text_preprocess(text)\n",
        "  tokenized = text.split()\n",
        "  audio_files=[]\n",
        "  for digit in tokenized:\n",
        "    audio_files.append(f\"Voices/\"+digit+\".wav\")\n",
        "  result_audio = concatenate_audio_files(audio_files)\n",
        "  return result_audio\n",
        "def int_to_audio(text,formal):\n",
        "  texted_audio=int_to_fa(text)\n",
        "  print(texted_audio)\n",
        "  audio_files=string_to_audio(texted_audio,formal)\n",
        "  return audio_files\n"
      ]
    },
    {
      "cell_type": "code",
      "execution_count": 110,
      "metadata": {
        "colab": {
          "base_uri": "https://localhost:8080/"
        },
        "id": "-ZEo7d9KNx3b",
        "outputId": "601af81a-f476-43db-d8d5-bab6f80c4864"
      },
      "outputs": [
        {
          "name": "stdout",
          "output_type": "stream",
          "text": [
            " دویست و دو\n",
            "Concatenation complete. Output file: output_combined.wav\n"
          ]
        }
      ],
      "source": [
        "\n",
        "input_str=\"1409\"\n",
        "formal=False\n",
        "if(input_str.isdigit()):\n",
        "  result_audio = int_to_audio(int(input_str),formal)\n",
        "else:\n",
        "  result_audio = string_to_audio(input_str,formal)\n",
        "\n",
        "# Export the concatenated audio to a new file\n",
        "result_audio.export(f\"output_combined.wav\", format=\"wav\")\n",
        "\n",
        "print(\"Concatenation complete. Output file: output_combined.wav\")\n"
      ]
    },
    {
      "cell_type": "code",
      "execution_count": 110,
      "metadata": {
        "id": "Vs53MNnRJqVW"
      },
      "outputs": [],
      "source": []
    }
  ],
  "metadata": {
    "colab": {
      "provenance": []
    },
    "kernelspec": {
      "display_name": "Python 3",
      "name": "python3"
    },
    "language_info": {
      "name": "python"
    }
  },
  "nbformat": 4,
  "nbformat_minor": 0
}
